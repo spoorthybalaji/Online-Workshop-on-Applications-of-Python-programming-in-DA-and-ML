{
  "nbformat": 4,
  "nbformat_minor": 0,
  "metadata": {
    "colab": {
      "name": "Day2  session2 Exercise.ipynb",
      "provenance": [],
      "collapsed_sections": [],
      "include_colab_link": true
    },
    "kernelspec": {
      "name": "python3",
      "display_name": "Python 3"
    }
  },
  "cells": [
    {
      "cell_type": "markdown",
      "metadata": {
        "id": "view-in-github",
        "colab_type": "text"
      },
      "source": [
        "<a href=\"https://colab.research.google.com/github/spoorthybalaji/Online-Workshop-on-Applications-of-Python-programming-in-DA-and-ML/blob/master/Day2_session2_Exercise.ipynb\" target=\"_parent\"><img src=\"https://colab.research.google.com/assets/colab-badge.svg\" alt=\"Open In Colab\"/></a>"
      ]
    },
    {
      "cell_type": "markdown",
      "metadata": {
        "id": "G4LJK-uOdg6K",
        "colab_type": "text"
      },
      "source": [
        "#TUPLE"
      ]
    },
    {
      "cell_type": "markdown",
      "metadata": {
        "id": "rEwCsYDXdlcx",
        "colab_type": "text"
      },
      "source": [
        "1. Add rollno and marks {name:mark} for n number of students through keyboard in a dictionary and print the marks in descending order with respective name."
      ]
    },
    {
      "cell_type": "code",
      "metadata": {
        "id": "pVVPrQLMcwZe",
        "colab_type": "code",
        "colab": {
          "base_uri": "https://localhost:8080/",
          "height": 157
        },
        "outputId": "e802ce6a-ad46-4afa-fd18-7de3b9afc4aa"
      },
      "source": [
        "n=int(input(\"Enter the number of students: \"))\n",
        "d={}\n",
        "for i in range(n):\n",
        "  name=input(\"Enter the name of the student \")\n",
        "  d[name]=int(input(\"Enter the marks of the student \"))\n",
        "import operator  \n",
        "sort_d=sorted(d.items(),key=operator.itemgetter(1),reverse=True) \n",
        "print(sort_d) \n"
      ],
      "execution_count": null,
      "outputs": [
        {
          "output_type": "stream",
          "text": [
            "Enter the number of students: 3\n",
            "Enter the name of the student XYZ\n",
            "Enter the marks of the student 50\n",
            "Enter the name of the student ABC\n",
            "Enter the marks of the student 46\n",
            "Enter the name of the student PQR\n",
            "Enter the marks of the student 42\n",
            "[('XYZ', 50), ('ABC', 46), ('PQR', 42)]\n"
          ],
          "name": "stdout"
        }
      ]
    },
    {
      "cell_type": "markdown",
      "metadata": {
        "id": "8wOJ3ZAHgIHS",
        "colab_type": "text"
      },
      "source": [
        "2. Add  name and salary {name:salary} for n number of employees through keyboard in a dictionary and print them in name alphabetical order with salary"
      ]
    },
    {
      "cell_type": "code",
      "metadata": {
        "id": "tFwckLLDe99b",
        "colab_type": "code",
        "colab": {
          "base_uri": "https://localhost:8080/",
          "height": 122
        },
        "outputId": "173b1650-0db6-43f5-c93f-5d9f2da6ad69"
      },
      "source": [
        "n=int(input(\"Enter the number of employees: \"))\n",
        "d={}\n",
        "for i in range(n):\n",
        "  name=input(\"Enter the name of the employee\")\n",
        "  d[name]=int(input(\"Enter the salary of the employee\"))\n",
        "import operator  \n",
        "sort_d=sorted(d.items(),key=operator.itemgetter(1)) \n",
        "print(sort_d)"
      ],
      "execution_count": null,
      "outputs": [
        {
          "output_type": "stream",
          "text": [
            "Enter the number of employees: 2\n",
            "Enter the name of the employeeLMN\n",
            "Enter the salary of the employee20000\n",
            "Enter the name of the employeePQR\n",
            "Enter the salary of the employee25000\n",
            "[('LMN', 20000), ('PQR', 25000)]\n"
          ],
          "name": "stdout"
        }
      ]
    },
    {
      "cell_type": "markdown",
      "metadata": {
        "id": "587A1g4Ijji8",
        "colab_type": "text"
      },
      "source": [
        "3. Add  name and salary {name:salary} for n number of employees through keyboard in a dictionary and print them in salary  ascending order and  sum, max, min and average of the salaries"
      ]
    },
    {
      "cell_type": "code",
      "metadata": {
        "id": "kTqsajNNgjoh",
        "colab_type": "code",
        "colab": {
          "base_uri": "https://localhost:8080/",
          "height": 193
        },
        "outputId": "2182beec-e8ff-4e94-c6b4-abd25be61575"
      },
      "source": [
        "n=int(input(\"Enter the number of employees: \"))\n",
        "d={}\n",
        "for i in range(n):\n",
        "  name=input(\"Enter the name of the employee \")\n",
        "  d[name]=int(input(\"Enter the salary of the employee \"))\n",
        "import operator  \n",
        "sort_d=sorted(d.items(),key=operator.itemgetter(1)) \n",
        "print(sort_d)\n",
        "print(\"Sum of the salary: \",sum(d.values()))\n",
        "print(\"Max of the salary: \",max(d.values()))\n",
        "print(\"Min of the salary: \",min(d.values()))\n",
        "print(\"Average of the salary: \",(sum(d.values())/n))"
      ],
      "execution_count": null,
      "outputs": [
        {
          "output_type": "stream",
          "text": [
            "Enter the number of employees: 2\n",
            "Enter the name of the employee ABC\n",
            "Enter the salary of the employee 25000\n",
            "Enter the name of the employee XYZ\n",
            "Enter the salary of the employee 20000\n",
            "[('XYZ', 20000), ('ABC', 25000)]\n",
            "Sum of the salary:  45000\n",
            "Max of the salary:  25000\n",
            "Min of the salary:  20000\n",
            "Average of the salary:  22500.0\n"
          ],
          "name": "stdout"
        }
      ]
    },
    {
      "cell_type": "markdown",
      "metadata": {
        "id": "E9er3Jprk1Ap",
        "colab_type": "text"
      },
      "source": [
        "4. Add name and salary {name:salary} for n number of employees through keyboard in a dictionary and print only the employees whose salary is greater than 2000 but less than 4000"
      ]
    },
    {
      "cell_type": "code",
      "metadata": {
        "id": "ExgK3SHIkC0V",
        "colab_type": "code",
        "colab": {
          "base_uri": "https://localhost:8080/",
          "height": 228
        },
        "outputId": "65b31fde-0dec-4a57-92c9-80f9ba352de6"
      },
      "source": [
        "n=int(input(\"Enter the number of employees: \"))\n",
        "d={}\n",
        "for i in range(n):\n",
        "  name=input(\"Enter the name of the employee\")\n",
        "  d[name]=int(input(\"Enter the salary of the employee\"))\n",
        "for k,v in d.items():  \n",
        "  if(v>2000 and v<40000):\n",
        "    print(k,\"->\",v)  "
      ],
      "execution_count": null,
      "outputs": [
        {
          "output_type": "stream",
          "text": [
            "Enter the number of employees: 4\n",
            "Enter the name of the employeeABC\n",
            "Enter the salary of the employee20000\n",
            "Enter the name of the employeeXYZ\n",
            "Enter the salary of the employee25000\n",
            "Enter the name of the employeePQR\n",
            "Enter the salary of the employee42000\n",
            "Enter the name of the employeeLMN\n",
            "Enter the salary of the employee26000\n",
            "ABC -> 20000\n",
            "XYZ -> 25000\n",
            "LMN -> 26000\n"
          ],
          "name": "stdout"
        }
      ]
    },
    {
      "cell_type": "markdown",
      "metadata": {
        "id": "8OosBBAMnzKo",
        "colab_type": "text"
      },
      "source": [
        "5. Python program to convert a 3 digit number  into words"
      ]
    },
    {
      "cell_type": "code",
      "metadata": {
        "id": "l_B_sTW1lhYX",
        "colab_type": "code",
        "colab": {
          "base_uri": "https://localhost:8080/",
          "height": 52
        },
        "outputId": "0265fa6b-9c89-406a-cb3e-cd1b540f31f6"
      },
      "source": [
        "def convert_to_words(num):  \n",
        "    l = len(num);    \n",
        "    if (l == 0): \n",
        "        print(\"empty string\"); \n",
        "        return; \n",
        "  \n",
        "    if (l > 4): \n",
        "        print(\"Length more than 4 is not supported\"); \n",
        "        return;   \n",
        "    single_digits = [\"zero\", \"one\", \"two\", \"three\",  \n",
        "                     \"four\", \"five\", \"six\", \"seven\",  \n",
        "                     \"eight\", \"nine\"];  \n",
        "    two_digits = [\"\", \"ten\", \"eleven\", \"twelve\",  \n",
        "                  \"thirteen\", \"fourteen\", \"fifteen\",  \n",
        "                  \"sixteen\", \"seventeen\", \"eighteen\", \n",
        "                  \"nineteen\"];  \n",
        "    tens_multiple = [\"\", \"\", \"twenty\", \"thirty\", \"forty\", \n",
        "                     \"fifty\", \"sixty\", \"seventy\", \"eighty\",  \n",
        "                     \"ninety\"]; \n",
        "    tens_power = [\"hundred\", \"thousand\"];   \n",
        "    print(num, \":\", end = \" \");   \n",
        "    if (l == 1):  \n",
        "        print(single_digits[ord(num[0]) - '0']); \n",
        "        return;  \n",
        "    x = 0; \n",
        "    while (x < len(num)):    \n",
        "        if (l >= 3): \n",
        "            if (ord(num[x]) - 48 != 0): \n",
        "                print(single_digits[ord(num[x]) - 48],  \n",
        "                                           end = \" \"); \n",
        "                print(tens_power[l - 3], end = \" \");  \n",
        "                  \n",
        "            l -= 1; \n",
        "        else:   \n",
        "            if (ord(num[x]) - 48 == 1):  \n",
        "                sum = (ord(num[x]) - 48 + \n",
        "                       ord(num[x]) - 48); \n",
        "                print(two_digits[sum]); \n",
        "                return;   \n",
        "            elif (ord(num[x]) - 48 == 2 and \n",
        "                  ord(num[x + 1]) - 48 == 0): \n",
        "                print(\"twenty\"); \n",
        "                return;  \n",
        "            else: \n",
        "                i = ord(num[x]) - 48; \n",
        "                if(i > 0): \n",
        "                    print(tens_multiple[i], end = \" \"); \n",
        "                else: \n",
        "                    print(\"\", end = \"\"); \n",
        "                x += 1; \n",
        "                if(ord(num[x]) - 48 != 0): \n",
        "                    print(single_digits[ord(num[x]) - 48]); \n",
        "        x += 1;  \n",
        "convert_to_words(\"498\"); \n",
        "convert_to_words(\"540\"); \n",
        "convert_to_words(\"25\");"
      ],
      "execution_count": null,
      "outputs": [
        {
          "output_type": "stream",
          "text": [
            "498 : four hundred ninety eight\n",
            "540 : five hundred forty 25 : twenty five\n"
          ],
          "name": "stdout"
        }
      ]
    },
    {
      "cell_type": "code",
      "metadata": {
        "id": "S7Ftdjn-Iihz",
        "colab_type": "code",
        "colab": {}
      },
      "source": [
        ""
      ],
      "execution_count": null,
      "outputs": []
    },
    {
      "cell_type": "markdown",
      "metadata": {
        "id": "Mtb0A-niYWKN",
        "colab_type": "text"
      },
      "source": [
        "#Files"
      ]
    },
    {
      "cell_type": "markdown",
      "metadata": {
        "id": "FD2QFTLyYZeY",
        "colab_type": "text"
      },
      "source": [
        "1. Python Program to count the total number of charaters (except blank space) in a text file."
      ]
    },
    {
      "cell_type": "code",
      "metadata": {
        "id": "0KDS8gciYOKK",
        "colab_type": "code",
        "colab": {
          "base_uri": "https://localhost:8080/",
          "height": 52
        },
        "outputId": "9fd317d3-476a-4bfe-8ad2-5f5ca1ff19f4"
      },
      "source": [
        "input_file = input(\"Enter File name : \")\n",
        "file_txt = open(input_file)\t\t\n",
        "text = file_txt.read()\t\t\t\n",
        "charc = 0\t\n",
        "for i in text:\t\t\t\t\n",
        "\tif(i != \" \" and i != \"\\n\" ):\n",
        "\t\t charc += 1\n",
        " \n",
        "print (\"total num of characters: \",charc);"
      ],
      "execution_count": null,
      "outputs": [
        {
          "output_type": "stream",
          "text": [
            "Enter File name : pythonExample.txt\n",
            "total num of characters:  62\n"
          ],
          "name": "stdout"
        }
      ]
    },
    {
      "cell_type": "markdown",
      "metadata": {
        "id": "rDKXQ7QtYeac",
        "colab_type": "text"
      },
      "source": [
        "2. Python Program to print all the numbers present in a text file with its total number of occurrence."
      ]
    },
    {
      "cell_type": "code",
      "metadata": {
        "id": "l3JOSROVYfH_",
        "colab_type": "code",
        "colab": {
          "base_uri": "https://localhost:8080/",
          "height": 70
        },
        "outputId": "15d33f3c-9094-48c2-abd7-1b49d3b28bc5"
      },
      "source": [
        "input_file = input(\"Enter File name : \")\n",
        "file_txt = open(input_file)\t\t\n",
        "text = file_txt.read()\t\n",
        "w = []\t\n",
        "d = {} \n",
        "for line in text: \n",
        "    line = line.strip() \t\n",
        "    if(line.isdigit()):\n",
        "           w.append(line)\n",
        "for j in w:\n",
        "      if j in d:\n",
        "        d[j] = d[j] + 1\n",
        "      else: \n",
        "            d[j] = 1 \n",
        "for key in list(d.keys()): \n",
        "    print(key, \":\", d[key])"
      ],
      "execution_count": null,
      "outputs": [
        {
          "output_type": "stream",
          "text": [
            "Enter File name : pythonExample.txt\n",
            "1 : 1\n",
            "2 : 1\n"
          ],
          "name": "stdout"
        }
      ]
    },
    {
      "cell_type": "markdown",
      "metadata": {
        "id": "rIhNXSI6gt9D",
        "colab_type": "text"
      },
      "source": [
        "3. Python Program to append the contents of one file to another file by getting the both file names through keyboard ."
      ]
    },
    {
      "cell_type": "code",
      "metadata": {
        "id": "NwUGQEySgJ6O",
        "colab_type": "code",
        "colab": {
          "base_uri": "https://localhost:8080/",
          "height": 52
        },
        "outputId": "e704a5ed-810b-418c-d850-98e96169ea67"
      },
      "source": [
        "name1 = input(\"Enter file to be read from: \")\n",
        "name2 = input(\"Enter file to be appended to: \")\n",
        "fin = open(name1, \"r\")\n",
        "data2 = fin.read()\n",
        "fin.close()\n",
        "fout = open(name2, \"a\")\n",
        "fout.write(data2)\n",
        "fout.close()"
      ],
      "execution_count": null,
      "outputs": [
        {
          "output_type": "stream",
          "text": [
            "Enter file to be read from: pythonExample.txt\n",
            "Enter file to be appended to: out.txt\n"
          ],
          "name": "stdout"
        }
      ]
    },
    {
      "cell_type": "markdown",
      "metadata": {
        "id": "GuxPsdrBhA2u",
        "colab_type": "text"
      },
      "source": [
        "4. Python Program to count the number of blank spaces in a text file."
      ]
    },
    {
      "cell_type": "code",
      "metadata": {
        "id": "MsUH1HgGgzCw",
        "colab_type": "code",
        "colab": {
          "base_uri": "https://localhost:8080/",
          "height": 70
        },
        "outputId": "1323be54-fd97-41c2-c080-2278f8560e13"
      },
      "source": [
        "fname = input(\"Enter file name: \")\n",
        "k = 0\n",
        " \n",
        "with open(fname, 'r') as f:\n",
        "    for line in f:\n",
        "        words = line.split()\n",
        "        for i in words:\n",
        "            for letter in i:\n",
        "                if(letter.isspace):\n",
        "                    k=k+1\n",
        "print(\"Occurrences of blank spaces:\")\n",
        "print(k)"
      ],
      "execution_count": null,
      "outputs": [
        {
          "output_type": "stream",
          "text": [
            "Enter file name: pythonExample.txt\n",
            "Occurrences of blank spaces:\n",
            "62\n"
          ],
          "name": "stdout"
        }
      ]
    },
    {
      "cell_type": "markdown",
      "metadata": {
        "id": "9qDyRjachV7f",
        "colab_type": "text"
      },
      "source": [
        "6. Python Program to read a file and capitalize the first letter of every word in the file and copy the every word capitalized content  into another file and read it ."
      ]
    },
    {
      "cell_type": "code",
      "metadata": {
        "id": "GUQktEavhF6S",
        "colab_type": "code",
        "colab": {
          "base_uri": "https://localhost:8080/",
          "height": 87
        },
        "outputId": "aa22e880-16a0-4869-d745-4bb8b3caec9e"
      },
      "source": [
        "fname = input(\"Enter file name: \")\n",
        "with open(fname, 'r') as f:\n",
        "  with open(\"out.txt\", \"w\") as f1:\n",
        "    for line in f:\n",
        "        l=line.title()\n",
        "        f1.write(l)\n",
        "file2=open(\"out.txt\",'r')\n",
        "line=file2.readline()\n",
        "while(line!=\"\"):\n",
        "    print(line)\n",
        "    line=file2.readline()\n",
        "file2.close()"
      ],
      "execution_count": null,
      "outputs": [
        {
          "output_type": "stream",
          "text": [
            "Enter file name: pythonExample.txt\n",
            "1.Hello World\n",
            "\n",
            "2.Python Program To Count The Number Of Words In A Text File. \n"
          ],
          "name": "stdout"
        }
      ]
    },
    {
      "cell_type": "code",
      "metadata": {
        "id": "QZB0kPUehNYL",
        "colab_type": "code",
        "colab": {}
      },
      "source": [
        ""
      ],
      "execution_count": null,
      "outputs": []
    }
  ]
}